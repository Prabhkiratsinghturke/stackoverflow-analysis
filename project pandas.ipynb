{
 "cells": [
  {
   "cell_type": "code",
   "execution_count": 2,
   "metadata": {
    "collapsed": true
   },
   "outputs": [],
   "source": [
    "import pandas as pd\n",
    "import numpy as np\n",
    "df_posts=pd.read_csv(\"posts.csv\" , encoding = \"ISO-8859-1\")\n",
    "df_comments=pd.read_csv(\"comments.csv\" )\n",
    "df_users=pd.read_csv(\"users.csv\")\n",
    "df_posttypes=pd.read_csv(\"posttypes.csv\")"
   ]
  },
  {
   "cell_type": "code",
   "execution_count": 3,
   "metadata": {
    "collapsed": true
   },
   "outputs": [],
   "source": [
    "df_users.columns=('id','reputation','displayname','loc','age')\n",
    "df_comments.columns=('id','userid')\n",
    "df_posts.columns=('id','post_type','creationdate','score','viewcount','owneruserid','title','answercount','commentcount')\n",
    "df_posttypes.columns=('id','name')\n",
    "\n"
   ]
  },
  {
   "cell_type": "code",
   "execution_count": 4,
   "metadata": {},
   "outputs": [
    {
     "name": "stdout",
     "output_type": "stream",
     "text": [
      "       reputation displayname  no_of_posts\n",
      "19451      736381   Jon Skeet          0.0\n"
     ]
    }
   ],
   "source": [
    "#A.Find the display name and no. of posts created by the user who has got maximum reputation.\n",
    "\n",
    "a=df_users.iloc[:,1].max()\n",
    "LEFT_merged_dataframe = pd.merge(df_users, df_posts, on= \"id\", how= \"left\")\n",
    "#print(LEFT_merged_dataframe)\n",
    "LEFT_merged_dataframe=LEFT_merged_dataframe[LEFT_merged_dataframe.reputation>=a]\n",
    "#print(LEFT_merged_dataframe['id','reputation'])\n",
    "LEFT_merged_dataframe.rename(columns={'score':'no_of_posts'}, inplace = True)\n",
    "a1=LEFT_merged_dataframe.iloc[:,1:3]\n",
    "a2=LEFT_merged_dataframe.iloc[:,7]\n",
    "a1=pd.concat([a1,a2],axis=1)\n",
    "print(a1)"
   ]
  },
  {
   "cell_type": "code",
   "execution_count": 5,
   "metadata": {},
   "outputs": [
    {
     "name": "stdout",
     "output_type": "stream",
     "text": [
      "the average age of users on the Stack Overflow site is  35.26279202780589\n"
     ]
    }
   ],
   "source": [
    "#B.Find the average age of users on the Stack Overflow site.\n",
    "avg=df_users.iloc[:,4]\n",
    "avg_age=avg.mean()\n",
    "print(\"the average age of users on the Stack Overflow site is \",avg_age)"
   ]
  },
  {
   "cell_type": "code",
   "execution_count": 6,
   "metadata": {},
   "outputs": [
    {
     "name": "stdout",
     "output_type": "stream",
     "text": [
      "9/9/2008 9:59\n"
     ]
    }
   ],
   "source": [
    "#C.Find the display name of user who posted the oldest post on Stack Overflow (in terms of date).\n",
    "post=df_posts.iloc[:,2].max()\n",
    "#a=post.()\n",
    "print(post)\n",
    "\n",
    "#print(df_posts)"
   ]
  },
  {
   "cell_type": "code",
   "execution_count": 7,
   "metadata": {},
   "outputs": [
    {
     "name": "stdout",
     "output_type": "stream",
     "text": [
      "736381\n",
      "       reputation displayname commentcount\n",
      "19451      736381   Jon Skeet            1\n"
     ]
    }
   ],
   "source": [
    "#  D.Find the display name and no. of comments done by the user who has got maximum reputation.\n",
    "a=df_users.iloc[:,1].max()\n",
    "print(a)\n",
    "#bc = df_users.query('reputation==736381')\n",
    "#print(bc)\n",
    "LEFT_merged_dataframe = pd.merge(df_users, df_posts, on= \"id\", how= \"left\")\n",
    "#print(LEFT_merged_dataframe)\n",
    "LEFT_merged_dataframe=LEFT_merged_dataframe[LEFT_merged_dataframe.reputation>=a]\n",
    "a1=LEFT_merged_dataframe.iloc[:,1:3]\n",
    "a2=LEFT_merged_dataframe.iloc[:,12]\n",
    "a1=pd.concat([a1,a2],axis=1)\n",
    "# g_by = LEFT_merged_dataframe.groupby(\"reputation\")[\"displayname\",\"commentcount\"]\n",
    "# for a, b in g_by: ##this used for read data after group single column\n",
    "#     print(a)\n",
    "#     print(b)\n",
    "\n",
    "print(a1)"
   ]
  },
  {
   "cell_type": "code",
   "execution_count": 8,
   "metadata": {},
   "outputs": [
    {
     "name": "stdout",
     "output_type": "stream",
     "text": [
      "       displayname   score\n",
      "8450  Josh Kodroff  2085.0\n"
     ]
    }
   ],
   "source": [
    "#E.Find the display name of user who has created maximum no. of posts on Stack Overflow. Overflow.\n",
    "df1=df_posts.iloc[:,3].max()\n",
    "\n",
    "#print(df1)\n",
    "df2=pd.merge(df_users,df_posts,on='id',how='left')\n",
    "df2=df2[df2.score>=df1]\n",
    "# gr_by=df2.groupby('score')['displayname']\n",
    "# for a, b in gr_by: ##this used for read data after group single column\n",
    "#     print(a)\n",
    "#     print(b)\n",
    "a1=df2.iloc[:,2]\n",
    "a2=df2.iloc[:,7]\n",
    "a1=pd.concat([a1,a2],axis=1)\n",
    "print(a1)"
   ]
  },
  {
   "cell_type": "code",
   "execution_count": 10,
   "metadata": {},
   "outputs": [
    {
     "name": "stdout",
     "output_type": "stream",
     "text": [
      "          id displayname                                              title\n",
      "20774  25969        lost  SQL Insert into ... values ( SELECT ... FROM ....\n"
     ]
    }
   ],
   "source": [
    "#F.\tFind the owner name and id of user whose post has got maximum no. of view counts so far.\n",
    "a1=df_posts.iloc[:,4].max()\n",
    "df2=pd.merge(df_users,df_posts,on='id',how='left')\n",
    "df2=df2[df2.viewcount>=a1]\n",
    "a1=df2.iloc[:,10]\n",
    "a2=df2.iloc[:,0]\n",
    "a3=df2.iloc[:,2]\n",
    "a1=pd.concat([a2,a3,a1],axis=1)\n",
    "print(a1)\n",
    "#a1 "
   ]
  },
  {
   "cell_type": "code",
   "execution_count": 30,
   "metadata": {},
   "outputs": [
    {
     "data": {
      "text/plain": [
       "<bound method Series.max of 0                                                        5\n",
       "2                                                        3\n",
       "3                                                       37\n",
       "4                                                       28\n",
       "6                                                       21\n",
       "7                                                        5\n",
       "8                                                        5\n",
       "9                                                        8\n",
       "10                                                      22\n",
       "13                                                       4\n",
       "14                                                      10\n",
       "20                                                       7\n",
       "22                                                       2\n",
       "23                                                       8\n",
       "26                                                      13\n",
       "33        ordered list of names from a DataTable using ...\n",
       "38                                                       4\n",
       "41                                                       2\n",
       "46                                                       4\n",
       "47                                                       3\n",
       "51                                                      15\n",
       "54                                                      10\n",
       "55                                                       3\n",
       "63                                                      14\n",
       "65                                                      10\n",
       "66                                                       2\n",
       "72                                                       1\n",
       "73                                                      16\n",
       "75                                                      19\n",
       "78                                                       5\n",
       "                               ...                        \n",
       "49844                                                    5\n",
       "49847                                                    5\n",
       "49852                                                   12\n",
       "49856                                                    4\n",
       "49858                                                    3\n",
       "49859                                                    6\n",
       "49863                                                    8\n",
       "49866                                                    3\n",
       "49867                                                    5\n",
       "49872                                                    4\n",
       "49874                                                    6\n",
       "49877                                                    3\n",
       "49884                                                    9\n",
       "49887                                                    3\n",
       "49890                                                    7\n",
       "49892                                                    3\n",
       "49907                                                    3\n",
       "49910                                                    4\n",
       "49911                                                    5\n",
       "49913                                                    2\n",
       "49914                                                    2\n",
       "49943                                                    5\n",
       "49945                                                    7\n",
       "49950                                                    5\n",
       "49952                                                    4\n",
       "49961                                                    4\n",
       "49975                                                    4\n",
       "49986                                                    2\n",
       "49991                                                   11\n",
       "49998                                                    9\n",
       "Name: answercount, Length: 8974, dtype: object>"
      ]
     },
     "execution_count": 30,
     "metadata": {},
     "output_type": "execute_result"
    }
   ],
   "source": [
    "a1=df_posts.iloc[:,7]\n",
    "x = a1.dropna()\n",
    "x.max"
   ]
  },
  {
   "cell_type": "code",
   "execution_count": 11,
   "metadata": {},
   "outputs": [
    {
     "name": "stdout",
     "output_type": "stream",
     "text": [
      "United States\n"
     ]
    }
   ],
   "source": [
    "# g.Find the location which has maximum no of Stack Overflow users.\n",
    "import statistics as st\n",
    "a1=df_users.iloc[:,3]\n",
    "a1=a1.dropna()\n",
    "#a1=np.array(a1)\n",
    "a=st.mode(a1)\n",
    "print(a)"
   ]
  }
 ],
 "metadata": {
  "kernelspec": {
   "display_name": "Python 3",
   "language": "python",
   "name": "python3"
  },
  "language_info": {
   "codemirror_mode": {
    "name": "ipython",
    "version": 3
   },
   "file_extension": ".py",
   "mimetype": "text/x-python",
   "name": "python",
   "nbconvert_exporter": "python",
   "pygments_lexer": "ipython3",
   "version": "3.6.3"
  }
 },
 "nbformat": 4,
 "nbformat_minor": 2
}
